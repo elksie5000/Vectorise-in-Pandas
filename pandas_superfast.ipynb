{
 "cells": [
  {
   "cell_type": "code",
   "execution_count": 1,
   "metadata": {},
   "outputs": [],
   "source": [
    "import pandas as pd\n",
    "import numpy as np"
   ]
  },
  {
   "cell_type": "code",
   "execution_count": 2,
   "metadata": {},
   "outputs": [],
   "source": [
    "def get_data(size=10_000):\n",
    "#Create a dataframe\n",
    "    df = pd.DataFrame()\n",
    "    df['age'] = np.random.randint(0, 100, size)\n",
    "    df['time_in_bed'] = np.random.randint(0,9, size)\n",
    "    df[\"pct_sleep\"] = np.random.rand(size)\n",
    "    df['favourite_food'] = np.random.choice(['pizza', \"taco\", \"stir fry\"], size)\n",
    "    df['hate_food'] = np.random.choice([\"broccoli\", \"carrots\", \"spinach\"], size)\n",
    "    return df"
   ]
  },
  {
   "cell_type": "code",
   "execution_count": 3,
   "metadata": {},
   "outputs": [
    {
     "data": {
      "text/html": [
       "<div>\n",
       "<style scoped>\n",
       "    .dataframe tbody tr th:only-of-type {\n",
       "        vertical-align: middle;\n",
       "    }\n",
       "\n",
       "    .dataframe tbody tr th {\n",
       "        vertical-align: top;\n",
       "    }\n",
       "\n",
       "    .dataframe thead th {\n",
       "        text-align: right;\n",
       "    }\n",
       "</style>\n",
       "<table border=\"1\" class=\"dataframe\">\n",
       "  <thead>\n",
       "    <tr style=\"text-align: right;\">\n",
       "      <th></th>\n",
       "      <th>age</th>\n",
       "      <th>time_in_bed</th>\n",
       "      <th>pct_sleep</th>\n",
       "      <th>favourite_food</th>\n",
       "      <th>hate_food</th>\n",
       "    </tr>\n",
       "  </thead>\n",
       "  <tbody>\n",
       "    <tr>\n",
       "      <th>0</th>\n",
       "      <td>69</td>\n",
       "      <td>8</td>\n",
       "      <td>0.665166</td>\n",
       "      <td>stir fry</td>\n",
       "      <td>spinach</td>\n",
       "    </tr>\n",
       "    <tr>\n",
       "      <th>1</th>\n",
       "      <td>39</td>\n",
       "      <td>5</td>\n",
       "      <td>0.540535</td>\n",
       "      <td>stir fry</td>\n",
       "      <td>broccoli</td>\n",
       "    </tr>\n",
       "    <tr>\n",
       "      <th>2</th>\n",
       "      <td>0</td>\n",
       "      <td>7</td>\n",
       "      <td>0.061207</td>\n",
       "      <td>taco</td>\n",
       "      <td>carrots</td>\n",
       "    </tr>\n",
       "    <tr>\n",
       "      <th>3</th>\n",
       "      <td>80</td>\n",
       "      <td>3</td>\n",
       "      <td>0.749281</td>\n",
       "      <td>pizza</td>\n",
       "      <td>carrots</td>\n",
       "    </tr>\n",
       "    <tr>\n",
       "      <th>4</th>\n",
       "      <td>88</td>\n",
       "      <td>4</td>\n",
       "      <td>0.566456</td>\n",
       "      <td>stir fry</td>\n",
       "      <td>carrots</td>\n",
       "    </tr>\n",
       "    <tr>\n",
       "      <th>...</th>\n",
       "      <td>...</td>\n",
       "      <td>...</td>\n",
       "      <td>...</td>\n",
       "      <td>...</td>\n",
       "      <td>...</td>\n",
       "    </tr>\n",
       "    <tr>\n",
       "      <th>9995</th>\n",
       "      <td>59</td>\n",
       "      <td>1</td>\n",
       "      <td>0.429232</td>\n",
       "      <td>stir fry</td>\n",
       "      <td>broccoli</td>\n",
       "    </tr>\n",
       "    <tr>\n",
       "      <th>9996</th>\n",
       "      <td>64</td>\n",
       "      <td>2</td>\n",
       "      <td>0.558616</td>\n",
       "      <td>pizza</td>\n",
       "      <td>spinach</td>\n",
       "    </tr>\n",
       "    <tr>\n",
       "      <th>9997</th>\n",
       "      <td>53</td>\n",
       "      <td>6</td>\n",
       "      <td>0.384832</td>\n",
       "      <td>taco</td>\n",
       "      <td>spinach</td>\n",
       "    </tr>\n",
       "    <tr>\n",
       "      <th>9998</th>\n",
       "      <td>42</td>\n",
       "      <td>6</td>\n",
       "      <td>0.714458</td>\n",
       "      <td>stir fry</td>\n",
       "      <td>broccoli</td>\n",
       "    </tr>\n",
       "    <tr>\n",
       "      <th>9999</th>\n",
       "      <td>63</td>\n",
       "      <td>0</td>\n",
       "      <td>0.593067</td>\n",
       "      <td>taco</td>\n",
       "      <td>carrots</td>\n",
       "    </tr>\n",
       "  </tbody>\n",
       "</table>\n",
       "<p>10000 rows × 5 columns</p>\n",
       "</div>"
      ],
      "text/plain": [
       "      age  time_in_bed  pct_sleep favourite_food hate_food\n",
       "0      69            8   0.665166       stir fry   spinach\n",
       "1      39            5   0.540535       stir fry  broccoli\n",
       "2       0            7   0.061207           taco   carrots\n",
       "3      80            3   0.749281          pizza   carrots\n",
       "4      88            4   0.566456       stir fry   carrots\n",
       "...   ...          ...        ...            ...       ...\n",
       "9995   59            1   0.429232       stir fry  broccoli\n",
       "9996   64            2   0.558616          pizza   spinach\n",
       "9997   53            6   0.384832           taco   spinach\n",
       "9998   42            6   0.714458       stir fry  broccoli\n",
       "9999   63            0   0.593067           taco   carrots\n",
       "\n",
       "[10000 rows x 5 columns]"
      ]
     },
     "execution_count": 3,
     "metadata": {},
     "output_type": "execute_result"
    }
   ],
   "source": [
    "get_data()"
   ]
  },
  {
   "attachments": {},
   "cell_type": "markdown",
   "metadata": {},
   "source": [
    "# Define the problem\n",
    "- If person spends more than 5 hours in bed and is asleep for more than 50% of the time, then give a choice of favourite food.\n",
    "- Otherwise, give a choice of hate food.\n",
    "- If over 90, give favourite food."
   ]
  },
  {
   "cell_type": "code",
   "execution_count": 4,
   "metadata": {},
   "outputs": [],
   "source": [
    "def reward_calc(row):\n",
    "    if row['age'] >= 90:\n",
    "        return row[\"favourite_food\"]\n",
    "    if (row['time_in_bed'] > 5) & (row['pct_sleep'] > 0.5):\n",
    "        return row[\"favourite_food\"]\n",
    "    return row['hate_food']\n"
   ]
  },
  {
   "cell_type": "markdown",
   "metadata": {},
   "source": [
    "#### Let's look through different ways to apply this function to our dataframe"
   ]
  },
  {
   "attachments": {},
   "cell_type": "markdown",
   "metadata": {},
   "source": [
    "### Level 1 - loop"
   ]
  },
  {
   "cell_type": "code",
   "execution_count": 5,
   "metadata": {},
   "outputs": [
    {
     "name": "stdout",
     "output_type": "stream",
     "text": [
      "718 ms ± 2.52 ms per loop (mean ± std. dev. of 7 runs, 1 loop each)\n"
     ]
    }
   ],
   "source": [
    "%%timeit\n",
    "df = get_data()\n",
    "for index, row in df.iterrows():\n",
    "    df.loc[index, 'reward'] = reward_calc(row)"
   ]
  },
  {
   "attachments": {},
   "cell_type": "markdown",
   "metadata": {},
   "source": [
    "### Level 2: Use apply"
   ]
  },
  {
   "cell_type": "code",
   "execution_count": 6,
   "metadata": {},
   "outputs": [
    {
     "name": "stdout",
     "output_type": "stream",
     "text": [
      "84 ms ± 503 µs per loop (mean ± std. dev. of 7 runs, 10 loops each)\n"
     ]
    }
   ],
   "source": [
    "%%timeit\n",
    "df = get_data()\n",
    "df['reward'] = df.apply(reward_calc, axis=1)"
   ]
  },
  {
   "attachments": {},
   "cell_type": "markdown",
   "metadata": {},
   "source": [
    "### Level 3 - vectorised code"
   ]
  },
  {
   "cell_type": "code",
   "execution_count": 11,
   "metadata": {},
   "outputs": [],
   "source": [
    "df = get_data()"
   ]
  },
  {
   "cell_type": "code",
   "execution_count": 12,
   "metadata": {},
   "outputs": [
    {
     "name": "stdout",
     "output_type": "stream",
     "text": [
      "696 µs ± 27.4 µs per loop (mean ± std. dev. of 7 runs, 1000 loops each)\n"
     ]
    }
   ],
   "source": [
    "%%timeit\n",
    "\n",
    "df['reward'] = df['hate_food']\n",
    "df.loc[((df['pct_sleep'] > 0.5) \n",
    "        & (df['time_in_bed'] > 5)) \n",
    "       | (df['age'] >= 90), \"reward\"] = df['favourite_food']"
   ]
  },
  {
   "attachments": {},
   "cell_type": "markdown",
   "metadata": {},
   "source": [
    "### Plot differences"
   ]
  },
  {
   "cell_type": "code",
   "execution_count": 15,
   "metadata": {},
   "outputs": [],
   "source": [
    "results = pd.DataFrame(\n",
    "    [[\"loop\", 3580, 48.3],\n",
    "     [\"apply\", 392, 6.5],\n",
    "     [\"vectorized\", 1.5, 0.02]\n",
    "    ],\n",
    "    columns=[\"type\", \"mean\", \"std\"]\n",
    ")"
   ]
  },
  {
   "cell_type": "code",
   "execution_count": 16,
   "metadata": {},
   "outputs": [
    {
     "name": "stdout",
     "output_type": "stream",
     "text": [
      "         type    mean    std\n",
      "0        loop  3580.0  48.30\n",
      "1       apply   392.0   6.50\n",
      "2  vectorized     1.5   0.02\n"
     ]
    }
   ],
   "source": [
    "print(results)"
   ]
  },
  {
   "cell_type": "code",
   "execution_count": 26,
   "metadata": {},
   "outputs": [
    {
     "data": {
      "text/plain": [
       "<AxesSubplot: ylabel='type'>"
      ]
     },
     "execution_count": 26,
     "metadata": {},
     "output_type": "execute_result"
    },
    {
     "data": {
      "image/png": "[encoded data removed]",
      "text/plain": [
       "<Figure size 640x480 with 1 Axes>"
      ]
     },
     "metadata": {},
     "output_type": "display_data"
    }
   ],
   "source": [
    "results.set_index(\"type\")[\"mean\"].plot(kind=\"barh\")"
   ]
  },
  {
   "cell_type": "code",
   "execution_count": null,
   "metadata": {},
   "outputs": [],
   "source": []
  }
 ],
 "metadata": {
  "kernelspec": {
   "display_name": "base",
   "language": "python",
   "name": "python3"
  },
  "language_info": {
   "codemirror_mode": {
    "name": "ipython",
    "version": 3
   },
   "file_extension": ".py",
   "mimetype": "text/x-python",
   "name": "python",
   "nbconvert_exporter": "python",
   "pygments_lexer": "ipython3",
   "version": "3.9.15"
  },
  "orig_nbformat": 4,
  "vscode": {
   "interpreter": {
    "hash": "3a5cafa1f31909a15c58ef1171c8cc906937ad820f3e4e4d41423220f53b3ded"
   }
  }
 },
 "nbformat": 4,
 "nbformat_minor": 2
}
